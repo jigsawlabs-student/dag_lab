{
 "cells": [
  {
   "cell_type": "markdown",
   "id": "killing-writer",
   "metadata": {},
   "source": [
    "# Dags Lab"
   ]
  },
  {
   "cell_type": "markdown",
   "id": "operational-rubber",
   "metadata": {},
   "source": [
    "### Introduction"
   ]
  },
  {
   "cell_type": "markdown",
   "id": "departmental-celebration",
   "metadata": {},
   "source": [
    "In this lesson, we'll practice creating our own DAGs in Airflow.  We'll set up a workflow that can make a request to our texas drink receipts API available [here](https://data.texas.gov/dataset/Mixed-Beverage-Gross-Receipts/naix-2893), and then select information from that requested data.  We'll do so by first setting up tasks that fake the request to the drink receipts API, and then when this is working, we'll make the request."
   ]
  },
  {
   "cell_type": "markdown",
   "id": "dense-founder",
   "metadata": {},
   "source": [
    "### Creating a Dag"
   ]
  },
  {
   "cell_type": "markdown",
   "id": "fitting-batman",
   "metadata": {},
   "source": [
    "Let's begin by creating a DAG with the id of `get_tax_receipts`.  Then, let's check our work.  \n",
    "\n",
    "Use docker to boot up an airflow webserver connected to the dags folder with our new dag.  we can check this in two ways:"
   ]
  },
  {
   "cell_type": "markdown",
   "id": "nervous-pakistan",
   "metadata": {},
   "source": [
    "* First, we can make sure that the dag is loaded into the correct folder by sh-ing into the docker container, and then looking in the `/usr/local/airflow/dags` folder."
   ]
  },
  {
   "cell_type": "markdown",
   "id": "dress-buffalo",
   "metadata": {},
   "source": [
    "> <img src=\"./sh-airflow.png\" width=\"90%\">"
   ]
  },
  {
   "cell_type": "markdown",
   "id": "marine-catering",
   "metadata": {},
   "source": [
    "* Second, let's go to `localhost:8080` and hopefully see our dag appear."
   ]
  },
  {
   "cell_type": "markdown",
   "id": "sophisticated-coordinator",
   "metadata": {},
   "source": [
    "<img src=\"./get_tax_receipts.png\" width=\"70%\"> "
   ]
  },
  {
   "cell_type": "markdown",
   "id": "finished-drunk",
   "metadata": {},
   "source": [
    "Now the next step is to add a `start_date` to the dag.  Set the start date as five days previous to the current time.  "
   ]
  },
  {
   "cell_type": "markdown",
   "id": "ongoing-guatemala",
   "metadata": {},
   "source": [
    "> It's best to shut down the docker container each time you update the code."
   ]
  },
  {
   "cell_type": "markdown",
   "id": "conventional-russian",
   "metadata": {},
   "source": [
    "The next time we boot up our webserver, we can check that airflow saw the changes by clicking on the lightning bolt on the righthand panel of the dag."
   ]
  },
  {
   "cell_type": "markdown",
   "id": "moved-momentum",
   "metadata": {},
   "source": [
    "> <img src=\"./code-view.png\" width=\"40%\">"
   ]
  },
  {
   "cell_type": "markdown",
   "id": "dominican-medline",
   "metadata": {},
   "source": [
    "Then turn on the dag run with the off-on switch over to the left, and shortly thereafter, we should see the dag run."
   ]
  },
  {
   "cell_type": "markdown",
   "id": "angry-parks",
   "metadata": {},
   "source": [
    "<img src=\"./dag-run.png\" width=\"90%\">"
   ]
  },
  {
   "cell_type": "markdown",
   "id": "hungarian-handle",
   "metadata": {},
   "source": [
    "Now if you click on the green DAG runs button, you can see five successes.  The reason is because there is a default time interval that the dag should be run every day, and we placed the start date as 5 days ago.  So airflow will run the dag five times to try to backfill.  "
   ]
  },
  {
   "cell_type": "markdown",
   "id": "average-qatar",
   "metadata": {},
   "source": [
    "<img src=\"./dag-run-history.png\" width=\"60%\">"
   ]
  },
  {
   "cell_type": "markdown",
   "id": "proper-hammer",
   "metadata": {},
   "source": [
    "Let's setup the dag so that it only runs once -- we can do that by setting the `start_date` as one day in the past.  Make that change now."
   ]
  },
  {
   "cell_type": "markdown",
   "id": "maritime-healthcare",
   "metadata": {},
   "source": [
    "### Adding Tasks"
   ]
  },
  {
   "cell_type": "markdown",
   "id": "spare-invitation",
   "metadata": {},
   "source": [
    "Ok, now so far we have created a DAG, but we have not added any tasks to that dag.  Let's do that now.  \n",
    "\n",
    "* First add a task called `retrieve_receipts`.  For now, the task will not actually retreive the receipt.  Instead, we should just see the string `getting receipts` in the logs when we run the dag."
   ]
  },
  {
   "cell_type": "markdown",
   "id": "indian-polls",
   "metadata": {},
   "source": [
    "After making the change, boot up the docker webserver again.  Then, if we click on the `get_tax_receipts` dag, we should see something like the task listed there."
   ]
  },
  {
   "cell_type": "markdown",
   "id": "sweet-pottery",
   "metadata": {},
   "source": [
    "> <img src=\"./with_task.png\" width=\"50%\">"
   ]
  },
  {
   "cell_type": "markdown",
   "id": "surface-interview",
   "metadata": {},
   "source": [
    "Then if we flip the DAG on, we should see both the dag, and the related task running."
   ]
  },
  {
   "cell_type": "markdown",
   "id": "separate-diameter",
   "metadata": {},
   "source": [
    "> Take a look under the Recent Tasks tab to see whether it run."
   ]
  },
  {
   "cell_type": "markdown",
   "id": "occasional-alias",
   "metadata": {},
   "source": [
    "> <img src=\"./dag-task-runs.png\" width=\"80%\"> "
   ]
  },
  {
   "cell_type": "markdown",
   "id": "impossible-northeast",
   "metadata": {},
   "source": [
    "From there, let's check the green circle under recent tasks, then click on the task id, and look at the logs.  We should see something like the following:"
   ]
  },
  {
   "cell_type": "markdown",
   "id": "contained-custody",
   "metadata": {},
   "source": [
    "> <img src=\"./get_receipts_log.png\" width=\"80%\">"
   ]
  },
  {
   "cell_type": "markdown",
   "id": "differential-thursday",
   "metadata": {},
   "source": [
    "> Notice that in the second to last line it says the returned value was `getting receipts`."
   ]
  },
  {
   "cell_type": "markdown",
   "id": "restricted-growth",
   "metadata": {},
   "source": [
    "### Adding another task"
   ]
  },
  {
   "cell_type": "markdown",
   "id": "focused-voluntary",
   "metadata": {},
   "source": [
    "Now let's add another task called `find_large_receipts` that returns `found large receipts` when run.  And have the `retreive_receipts` and then the `finding_receipts` step be called in sequential order."
   ]
  },
  {
   "cell_type": "markdown",
   "id": "fixed-concern",
   "metadata": {},
   "source": [
    "After shutting down the docker container and restarting it, we should now see the following under the Dag's tree view."
   ]
  },
  {
   "cell_type": "markdown",
   "id": "temporal-instrumentation",
   "metadata": {},
   "source": [
    "> <img src=\"./dag-sequential.png\" width=\"40%\">"
   ]
  },
  {
   "cell_type": "markdown",
   "id": "solid-trader",
   "metadata": {},
   "source": [
    "Notice that with this updated diagram, that `get_receipts` is run followed by `find_receipts`."
   ]
  },
  {
   "cell_type": "markdown",
   "id": "complete-andorra",
   "metadata": {},
   "source": [
    "Next, let's switch on the dag, and check that both of these tasks are run."
   ]
  },
  {
   "cell_type": "markdown",
   "id": "indoor-coordination",
   "metadata": {},
   "source": [
    "> The recent tasks panel should show two, with a green circle."
   ]
  },
  {
   "cell_type": "markdown",
   "id": "dried-reality",
   "metadata": {},
   "source": [
    "> <img src=\"./running_tasks.png\" width=\"60%\">"
   ]
  },
  {
   "cell_type": "markdown",
   "id": "radio-seventh",
   "metadata": {},
   "source": [
    "If we click on the recent tasks circle, we should be able to take a look at the logs of each tasks to see that the correct values were properly returned.\n",
    "\n",
    "> So the `find_receipts` task should produce logs like the following:"
   ]
  },
  {
   "cell_type": "markdown",
   "id": "imperial-intranet",
   "metadata": {},
   "source": [
    "> <img src=\"./found_large_receipts.png\" width=\"100%\">"
   ]
  },
  {
   "cell_type": "markdown",
   "id": "informative-looking",
   "metadata": {},
   "source": [
    "In the third to last line, we can see that it says `found large receipts` were returned."
   ]
  },
  {
   "cell_type": "markdown",
   "id": "authorized-woman",
   "metadata": {},
   "source": [
    "### Working with Schedule Intervals"
   ]
  },
  {
   "cell_type": "markdown",
   "id": "coated-pacific",
   "metadata": {},
   "source": [
    "Now let's change how often our dag is run.  We can do this with the schedule interval.  Update the dag so that it sets a schedule interval to daily, by adding the following keyword argument."
   ]
  },
  {
   "cell_type": "markdown",
   "id": "integrated-bruce",
   "metadata": {},
   "source": [
    "```python\n",
    "schedule_interval='@hourly'\n",
    "\n",
    "```"
   ]
  },
  {
   "cell_type": "markdown",
   "id": "iraqi-florist",
   "metadata": {},
   "source": [
    "We can see the various options for setting how often the dag will be run with the [presets documentation](https://airflow.apache.org/docs/apache-airflow/stable/dag-run.html#cron-presets)"
   ]
  },
  {
   "cell_type": "markdown",
   "id": "progressive-prescription",
   "metadata": {},
   "source": [
    "### Make it real(er)"
   ]
  },
  {
   "cell_type": "markdown",
   "id": "interesting-accreditation",
   "metadata": {},
   "source": [
    "Ok, now let's have our `get_receipts` task connect to our Texas Drinks API.  The url to reach is the following:\n",
    "\n",
    "`https://data.texas.gov/resource/naix-2893.json?taxpayer_zip=77036`"
   ]
  },
  {
   "cell_type": "markdown",
   "id": "finished-alpha",
   "metadata": {},
   "source": [
    "And next time when we run the dag, have that task return the first dictionary from the api.  If it's done properly, the log should look something like the following:"
   ]
  },
  {
   "cell_type": "markdown",
   "id": "fifteen-deposit",
   "metadata": {},
   "source": [
    "<img src=\"./returned_api_value.png\" width=\"100%\">"
   ]
  },
  {
   "cell_type": "markdown",
   "id": "divine-briefs",
   "metadata": {},
   "source": [
    "> So we can see the `Returned value was:` had the dictionary with the `taxpayer_number` and `name`."
   ]
  },
  {
   "cell_type": "markdown",
   "id": "stupid-worship",
   "metadata": {},
   "source": [
    "### Bonus"
   ]
  },
  {
   "cell_type": "markdown",
   "id": "forbidden-response",
   "metadata": {},
   "source": [
    "If you would like to store the data, perhaps write the data to a csv file in the first task, and then read the data from that csv returning receipts greater than zero in the second task.  Look at using pandas to do so:"
   ]
  },
  {
   "cell_type": "markdown",
   "id": "designed-discipline",
   "metadata": {},
   "source": [
    "* For writing to csv we can do something like the following: \n",
    "```python\n",
    "import pandas as pd\n",
    "df = pd.DataFrame(response.json())\n",
    "df.to_csv('records.csv')\n",
    "```\n",
    "\n",
    "And for reading from csv and getting back a list of dictionaries to search through we can do something like the following: \n",
    "\n",
    "```python    \n",
    "df = pd.read_csv('./records')\n",
    "records = df.to_dict('records')\n",
    "```\n"
   ]
  },
  {
   "cell_type": "markdown",
   "id": "possible-thomson",
   "metadata": {},
   "source": [
    "### Summary"
   ]
  },
  {
   "cell_type": "markdown",
   "id": "formal-stuart",
   "metadata": {},
   "source": [
    "In this lab, we practiced working with directed acyclic graphs.  We saw that we could initialize a DAG, and then add tasks to the DAG.  Then we moved into specifying a schedule interval with the dag, by adding the `schedule_interval` keyword argument and the preset of `'@hourly'`."
   ]
  },
  {
   "cell_type": "markdown",
   "id": "ancient-cache",
   "metadata": {},
   "source": [
    "### Resources"
   ]
  },
  {
   "cell_type": "code",
   "execution_count": null,
   "id": "double-chapel",
   "metadata": {},
   "outputs": [],
   "source": []
  }
 ],
 "metadata": {
  "kernelspec": {
   "display_name": "Python 3",
   "language": "python",
   "name": "python3"
  },
  "language_info": {
   "codemirror_mode": {
    "name": "ipython",
    "version": 3
   },
   "file_extension": ".py",
   "mimetype": "text/x-python",
   "name": "python",
   "nbconvert_exporter": "python",
   "pygments_lexer": "ipython3",
   "version": "3.8.6"
  }
 },
 "nbformat": 4,
 "nbformat_minor": 5
}
