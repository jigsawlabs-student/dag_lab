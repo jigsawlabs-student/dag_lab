{
 "cells": [
  {
   "cell_type": "markdown",
   "id": "voluntary-service",
   "metadata": {},
   "source": [
    "# Dags Lab"
   ]
  },
  {
   "cell_type": "markdown",
   "id": "united-armenia",
   "metadata": {},
   "source": [
    "### Introduction"
   ]
  },
  {
   "cell_type": "markdown",
   "id": "surprised-production",
   "metadata": {},
   "source": [
    "In this lesson, we'll practice creating our own DAGs in Airflow.  Let's get started."
   ]
  },
  {
   "cell_type": "markdown",
   "id": "chicken-westminster",
   "metadata": {},
   "source": [
    "### Creating a Dag"
   ]
  },
  {
   "cell_type": "markdown",
   "id": "polished-graphics",
   "metadata": {},
   "source": [
    "Begin by creating a DAG with the id of `get_tax_receipts`.  Then let's boot up an airflow webserver connected to the dags and check that the dag is properly loaded."
   ]
  },
  {
   "cell_type": "markdown",
   "id": "helpful-treasurer",
   "metadata": {},
   "source": [
    "Make sure that the dag is loaded into the correct folder in the airflow container.  Check that it is by sh-ing into the docker container, and then looking in the `/usr/local/airflow/dags` folder."
   ]
  },
  {
   "cell_type": "markdown",
   "id": "paperback-jewel",
   "metadata": {},
   "source": [
    "<img src=\"./sh-airflow.png\" width=\"90%\">"
   ]
  },
  {
   "cell_type": "markdown",
   "id": "rolled-property",
   "metadata": {},
   "source": [
    "And then we go to `localhost:8080` and hopefully see our dag appear."
   ]
  },
  {
   "cell_type": "markdown",
   "id": "former-blowing",
   "metadata": {},
   "source": [
    "<img src=\"./get_tax_receipts.png\" width=\"70%\"> "
   ]
  },
  {
   "cell_type": "markdown",
   "id": "restricted-funeral",
   "metadata": {},
   "source": [
    "Now the next step is to add a `start_date` to the dag.  Add the start date as five days previous to the current time.  "
   ]
  },
  {
   "cell_type": "markdown",
   "id": "decreased-hartford",
   "metadata": {},
   "source": [
    "> It's best to shut down the docker container each time you update the code."
   ]
  },
  {
   "cell_type": "markdown",
   "id": "chemical-momentum",
   "metadata": {},
   "source": [
    "If you update the code, you can check that airflow saw the changes by clicking on the lightning bolt on the righthand panel of the dag."
   ]
  },
  {
   "cell_type": "markdown",
   "id": "defensive-trademark",
   "metadata": {},
   "source": [
    "> <img src=\"./code-view.png\" width=\"40%\">"
   ]
  },
  {
   "cell_type": "markdown",
   "id": "equipped-sugar",
   "metadata": {},
   "source": [
    "Then turn on the dag run with the switch over to the left, and shortly thereafter, we should see the dag run."
   ]
  },
  {
   "cell_type": "markdown",
   "id": "abroad-toner",
   "metadata": {},
   "source": [
    "<img src=\"./dag-run.png\" width=\"90%\">"
   ]
  },
  {
   "cell_type": "markdown",
   "id": "blind-island",
   "metadata": {},
   "source": [
    "Now if you click on the green DAG runs button, you can see five successes.  The reason is because there is a default time interval that the dag should be run every day, and we placed the start date as 5 days ago.  So airflow will run the dag five times to try to backfill.  "
   ]
  },
  {
   "cell_type": "markdown",
   "id": "raised-graphics",
   "metadata": {},
   "source": [
    "<img src=\"./dag-run-history.png\" width=\"60%\">"
   ]
  },
  {
   "cell_type": "markdown",
   "id": "taken-advertising",
   "metadata": {},
   "source": [
    "Let's setup the dag so that it only runs once -- we can do that by setting the `start_date` as one day in the past.  Make that change now."
   ]
  },
  {
   "cell_type": "markdown",
   "id": "dramatic-myanmar",
   "metadata": {},
   "source": [
    "### Adding Tasks"
   ]
  },
  {
   "cell_type": "markdown",
   "id": "dutch-wilderness",
   "metadata": {},
   "source": [
    "Ok, now so far we have created a DAG.  But we have not added any steps or tasks to that dag.  Let's do that now.  \n",
    "\n",
    "* First add a step called `retrieve_receipts`.  For now, the task will not actually retreive receipt.  Instead, we should just see the string `getting receipts` in the logs when we run the dag."
   ]
  },
  {
   "cell_type": "markdown",
   "id": "confused-recipient",
   "metadata": {},
   "source": [
    "At this point, it's probably best to shut down the airflow server and start it again.  If we click on the `get_tax_receipts` dag, we should see something like the task listed there.\n",
    "\n",
    "> If the task is not listing, check clicking the refresh at the top right of the tree view.  It's may also be worth trying to change the task and dag ids."
   ]
  },
  {
   "cell_type": "markdown",
   "id": "dress-replacement",
   "metadata": {},
   "source": [
    "> <img src=\"./with_task.png\" width=\"50%\">"
   ]
  },
  {
   "cell_type": "markdown",
   "id": "union-riverside",
   "metadata": {},
   "source": [
    "Then if we flip the DAG on, we should see both the dag, and the related task running.\n",
    "\n",
    "> If this is not occurring, try adding new DAG or task ids.  "
   ]
  },
  {
   "cell_type": "markdown",
   "id": "chronic-trader",
   "metadata": {},
   "source": [
    "<img src=\"./dag-task-runs.png\" width=\"80%\"> "
   ]
  },
  {
   "cell_type": "markdown",
   "id": "encouraging-escape",
   "metadata": {},
   "source": [
    "From there, let's check the green circle under recent tasks, then click on the task id, and look at the logs.  We should see something like the following:"
   ]
  },
  {
   "cell_type": "markdown",
   "id": "thorough-smart",
   "metadata": {},
   "source": [
    "<img src=\"./get_receipts_log.png\" width=\"80%\">"
   ]
  },
  {
   "cell_type": "markdown",
   "id": "large-danger",
   "metadata": {},
   "source": [
    "> Notice that in the second to last line it says the returned value was `getting receipts`."
   ]
  },
  {
   "cell_type": "markdown",
   "id": "constitutional-orchestra",
   "metadata": {},
   "source": [
    "* Now let's add another task called `find_large_receipts` that returns `found large receipts` when run.  And have the `retreive_receipts` and then the `finding_receipts` step be called in sequential order."
   ]
  },
  {
   "cell_type": "markdown",
   "id": "cordless-tract",
   "metadata": {},
   "source": [
    "After shutting down the docker container and restarting it, we should now see the following under the Dag's tree view."
   ]
  },
  {
   "cell_type": "markdown",
   "id": "fundamental-coaching",
   "metadata": {},
   "source": [
    "> <img src=\"./dag-sequential.png\" width=\"40%\">"
   ]
  },
  {
   "cell_type": "markdown",
   "id": "distant-manhattan",
   "metadata": {},
   "source": [
    "Notice that with this updated diagram, that `get_receipts` is run followed by `find_receipts`."
   ]
  },
  {
   "cell_type": "markdown",
   "id": "dominant-corrections",
   "metadata": {},
   "source": [
    "Now, let's switch on the dag, and check that both of these tasks are run."
   ]
  },
  {
   "cell_type": "markdown",
   "id": "executive-claim",
   "metadata": {},
   "source": [
    "> <img src=\"./running_tasks.png\" width=\"60%\">"
   ]
  },
  {
   "cell_type": "markdown",
   "id": "advised-processor",
   "metadata": {},
   "source": [
    "If we click on the recent tasks, we should then take a look at the logs of each tasks to see that the correct values were properly returned.\n",
    "\n",
    "The `find_receipts` task should produce logs like the following:"
   ]
  },
  {
   "cell_type": "markdown",
   "id": "removable-history",
   "metadata": {},
   "source": [
    "> <img src=\"./found_large_receipts.png\" width=\"100%\">"
   ]
  },
  {
   "cell_type": "markdown",
   "id": "referenced-draft",
   "metadata": {},
   "source": [
    "In the third to last line, we can see that it says `found large receipts` were returned."
   ]
  },
  {
   "cell_type": "markdown",
   "id": "massive-reality",
   "metadata": {},
   "source": [
    "### Working with Schedule Intervals"
   ]
  },
  {
   "cell_type": "markdown",
   "id": "handled-robert",
   "metadata": {},
   "source": [
    "Now let's change how often our dag is run.  We can do this with the schedule interval.  Update the dag so that it sets a schedule interval to daily, by adding the following keyword argument."
   ]
  },
  {
   "cell_type": "markdown",
   "id": "addressed-intersection",
   "metadata": {},
   "source": [
    "```python\n",
    "schedule_interval='@hourly'\n",
    "\n",
    "```"
   ]
  },
  {
   "cell_type": "markdown",
   "id": "suffering-dealer",
   "metadata": {},
   "source": [
    "We can see the various options for setting how often the dag will be run with the [presets documentation](https://airflow.apache.org/docs/apache-airflow/stable/dag-run.html#cron-presets)"
   ]
  },
  {
   "cell_type": "markdown",
   "id": "acceptable-format",
   "metadata": {},
   "source": [
    "### Make it real(er)"
   ]
  },
  {
   "cell_type": "markdown",
   "id": "patent-christianity",
   "metadata": {},
   "source": [
    "Ok, now let's have our `get_receipts` task connect to our Texas Drinks API.  The url to reach is the following:\n",
    "\n",
    "`https://data.texas.gov/resource/naix-2893.json?taxpayer_zip=77036`"
   ]
  },
  {
   "cell_type": "markdown",
   "id": "respiratory-standing",
   "metadata": {},
   "source": [
    "And next time when we run the dag, have that task return the first dictionary from the api.  For example, the log should look something like the following:"
   ]
  },
  {
   "cell_type": "markdown",
   "id": "delayed-target",
   "metadata": {},
   "source": [
    "<img src=\"./returned_api_value.png\" width=\"100%\">"
   ]
  },
  {
   "cell_type": "markdown",
   "id": "completed-begin",
   "metadata": {},
   "source": [
    "> So we can see the `Returned value` had the dictionary with the `taxpayer_number` and `name`."
   ]
  },
  {
   "cell_type": "markdown",
   "id": "sudden-tuner",
   "metadata": {},
   "source": [
    "### Summary"
   ]
  },
  {
   "cell_type": "markdown",
   "id": "genetic-variance",
   "metadata": {},
   "source": [
    "In this lab, we practiced working with directed acyclic graphs.  We saw that we could initialize a DAG, and then add tasks to the DAG.  Then we moved into specifying a schedule interval with the dag, by adding the `schedule_interval` keyword argument and the preset of `'@hourly'`."
   ]
  }
 ],
 "metadata": {
  "kernelspec": {
   "display_name": "Python 3",
   "language": "python",
   "name": "python3"
  },
  "language_info": {
   "codemirror_mode": {
    "name": "ipython",
    "version": 3
   },
   "file_extension": ".py",
   "mimetype": "text/x-python",
   "name": "python",
   "nbconvert_exporter": "python",
   "pygments_lexer": "ipython3",
   "version": "3.8.6"
  }
 },
 "nbformat": 4,
 "nbformat_minor": 5
}
